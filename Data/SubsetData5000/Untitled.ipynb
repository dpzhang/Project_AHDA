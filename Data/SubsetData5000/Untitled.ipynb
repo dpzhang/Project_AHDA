{
 "cells": [
  {
   "cell_type": "code",
   "execution_count": 1,
   "metadata": {
    "collapsed": true
   },
   "outputs": [],
   "source": [
    "import json\n",
    "import pandas as pd\n",
    "import numpy as np\n",
    "import ijson"
   ]
  },
  {
   "cell_type": "code",
   "execution_count": 69,
   "metadata": {
    "collapsed": false
   },
   "outputs": [],
   "source": [
    "with open('CSTaxiTrips.csv', 'r') as csvfile:\n",
    "\n",
    "    #csvreader = csv.reader(csvfile)\n",
    "    # This skips the first row of the CSV file.\n",
    "    # csvreader.next() also works in Python 2.\n",
    "    next(csvfile)\n",
    "    for row in csvfile:\n",
    "        #print(row[14])\n",
    "        trip_id = row[0]\n",
    "        total = row[14]\n",
    "        #yield trip_id\n",
    "#r = pd.read_csv(\"CSTaxiTrips.csv\")"
   ]
  },
  {
   "cell_type": "code",
   "execution_count": 11,
   "metadata": {
    "collapsed": false
   },
   "outputs": [
    {
     "data": {
      "text/plain": [
       "['trip_id',\n",
       " 'taxi_id',\n",
       " 'pickup_time',\n",
       " 'dropoff_time',\n",
       " 'seconds',\n",
       " 'miles',\n",
       " 'pickup_census',\n",
       " 'dropoff_census',\n",
       " 'pickup_area',\n",
       " 'dropoff_area',\n",
       " 'fare',\n",
       " 'tips',\n",
       " 'tolls',\n",
       " 'extras',\n",
       " 'total',\n",
       " 'payment',\n",
       " 'company',\n",
       " 'pickup_latitude',\n",
       " 'pickup_longitude',\n",
       " 'pickup_centroid',\n",
       " 'dropoff_latitude',\n",
       " 'dropoff_longitude',\n",
       " 'dropoff_centroid',\n",
       " 'pickup_region',\n",
       " 'dropoff_region',\n",
       " 'AbsDistance',\n",
       " 'RRSL',\n",
       " 'AbsVelocity',\n",
       " 'AclVelocity',\n",
       " 'RRVV',\n",
       " 'AbsTime',\n",
       " 'RRST',\n",
       " 'pickup_hr',\n",
       " 'weekday']"
      ]
     },
     "execution_count": 11,
     "metadata": {},
     "output_type": "execute_result"
    }
   ],
   "source": [
    "list(r.iloc[:0])"
   ]
  },
  {
   "cell_type": "code",
   "execution_count": 18,
   "metadata": {
    "collapsed": false
   },
   "outputs": [],
   "source": [
    "#r[['taxi_id','total']]"
   ]
  },
  {
   "cell_type": "code",
   "execution_count": 48,
   "metadata": {
    "collapsed": false
   },
   "outputs": [
    {
     "data": {
      "text/plain": [
       "array([[44691]])"
      ]
     },
     "execution_count": 48,
     "metadata": {},
     "output_type": "execute_result"
    }
   ],
   "source": [
    "r.ix[[1],[0]].values"
   ]
  },
  {
   "cell_type": "code",
   "execution_count": 55,
   "metadata": {
    "collapsed": false
   },
   "outputs": [
    {
     "data": {
      "text/plain": [
       "float"
      ]
     },
     "execution_count": 55,
     "metadata": {},
     "output_type": "execute_result"
    }
   ],
   "source": [
    "type(np.float((r.iloc[0]['total'])))"
   ]
  },
  {
   "cell_type": "code",
   "execution_count": 57,
   "metadata": {
    "collapsed": true
   },
   "outputs": [],
   "source": [
    "import pandas as pd\n",
    "import numpy as np\n",
    "from mrjob.job import MRJob\n",
    "\n",
    "class MRCount(MRJob):\n",
    "    def mapper(self, _, line):\n",
    "        with open('CSTaxiTrips.csv', 'r') as csvfile:\n",
    "            csvreader = csv.reader(csvfile)\n",
    "            # This skips the first row of the CSV file.\n",
    "            next(csvreader)\n",
    "        for datarow in csvreader:\n",
    "            datarow = line.replace(' ','').replace('N/A','').split(',')\n",
    "            trip_id = datarow[0]\n",
    "            total = datarow[14]\n",
    "            yield ((trip_id), (total))"
   ]
  },
  {
   "cell_type": "code",
   "execution_count": 59,
   "metadata": {
    "collapsed": false
   },
   "outputs": [
    {
     "name": "stderr",
     "output_type": "stream",
     "text": [
      "Usage: __main__.py [options] [input files]\n",
      "\n",
      "__main__.py: error: no such option: -f\n"
     ]
    },
    {
     "ename": "SystemExit",
     "evalue": "2",
     "output_type": "error",
     "traceback": [
      "An exception has occurred, use %tb to see the full traceback.\n",
      "\u001b[0;31mSystemExit\u001b[0m\u001b[0;31m:\u001b[0m 2\n"
     ]
    },
    {
     "name": "stderr",
     "output_type": "stream",
     "text": [
      "/Users/misun/anaconda/lib/python3.5/site-packages/IPython/core/interactiveshell.py:2889: UserWarning: To exit: use 'exit', 'quit', or Ctrl-D.\n",
      "  warn(\"To exit: use 'exit', 'quit', or Ctrl-D.\", stacklevel=1)\n"
     ]
    }
   ],
   "source": [
    "if __name__ == '__main__':\n",
    "    MRCount.run()  "
   ]
  },
  {
   "cell_type": "code",
   "execution_count": null,
   "metadata": {
    "collapsed": true
   },
   "outputs": [],
   "source": []
  }
 ],
 "metadata": {
  "anaconda-cloud": {},
  "kernelspec": {
   "display_name": "Python [default]",
   "language": "python",
   "name": "python3"
  },
  "language_info": {
   "codemirror_mode": {
    "name": "ipython",
    "version": 3
   },
   "file_extension": ".py",
   "mimetype": "text/x-python",
   "name": "python",
   "nbconvert_exporter": "python",
   "pygments_lexer": "ipython3",
   "version": "3.5.2"
  }
 },
 "nbformat": 4,
 "nbformat_minor": 1
}
